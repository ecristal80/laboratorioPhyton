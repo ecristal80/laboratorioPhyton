{
 "cells": [
  {
   "cell_type": "markdown",
   "id": "292d3f50",
   "metadata": {},
   "source": [
    "1. Haga un programa en Python que reciba de parámetro un número de segundos y que despliegue en pantalla, las horas, minutos y segundos que representa"
   ]
  },
  {
   "cell_type": "code",
   "execution_count": 3,
   "id": "7c14ff0e",
   "metadata": {},
   "outputs": [
    {
     "name": "stdout",
     "output_type": "stream",
     "text": [
      "ingrese cantidad de segundos:2743\n",
      "Horas\n",
      "0\n",
      "Minutos\n",
      "45\n",
      "Segundos\n",
      "43\n"
     ]
    }
   ],
   "source": [
    "segundos=input(\"ingrese cantidad de segundos:\")#\"2743\"\n",
    "segundos=int(segundos)\n",
    "horas=segundos//3600 #1\n",
    "sobrante1=segundos%3600 #43\n",
    "minutos=sobrante1//60 #1\n",
    "sobrante2= sobrante1%60 #3\n",
    "print(\"Horas\")\n",
    "print(horas)\n",
    "print(\"Minutos\")\n",
    "print(minutos)\n",
    "print(\"Segundos\")\n",
    "print(sobrante2)"
   ]
  },
  {
   "cell_type": "markdown",
   "id": "6829784b",
   "metadata": {},
   "source": [
    "2. Haga una función en Python que dado un número entre 1 y 20. Y un carácter cualquiera despliegue cuatro patrones triangulares. Por ejemplo si el usuario ingresara el número 4 y el símbolo * el programa deberá desplegar lo siguiente:"
   ]
  },
  {
   "cell_type": "code",
   "execution_count": 5,
   "id": "102f6021",
   "metadata": {},
   "outputs": [
    {
     "name": "stdout",
     "output_type": "stream",
     "text": [
      "Introduce un número entre 1 y 20 4\n",
      "\n",
      "*\n",
      "**\n",
      "***\n",
      "****\n",
      "    \n",
      "   *\n",
      "  **\n",
      " ***\n",
      "****\n"
     ]
    }
   ],
   "source": [
    "n=int(input(\"Introduce un número entre 1 y 20 \"))\n",
    "for i in range(n+1):\n",
    "    print('*'*i)\n",
    "    \n",
    "for i in range(n+1):\n",
    "    espacios=n-i\n",
    "    print(' '*espacios+'*'*i)\n",
    "    \n"
   ]
  },
  {
   "cell_type": "markdown",
   "id": "7cf614d6",
   "metadata": {},
   "source": [
    "3. Haga un programa en Python que la fecha de nacimiento de una persona (puede ingresar por separado cada valor, es decir pedir primero día, luego mes y luego año), despliegue la edad de la persona en años, meses y días. Su resultado puede ser aproximado."
   ]
  },
  {
   "cell_type": "code",
   "execution_count": 6,
   "id": "596d2d4c",
   "metadata": {},
   "outputs": [
    {
     "name": "stdout",
     "output_type": "stream",
     "text": [
      "Ingrese su año de nacimiento: 1980\n",
      "Ingrese su mes(número) de nacimiento: 9\n",
      "Ingrese su día () de nacimiento: 18\n",
      "43\n",
      "Tu edad es: 42\n"
     ]
    }
   ],
   "source": [
    "from datetime import date\n",
    "\n",
    "import os\n",
    "os.system(\"cls\")\n",
    "\n",
    "anio=int(input(\"Ingrese su año de nacimiento: \"))\n",
    "mes=int(input(\"Ingrese su mes(número) de nacimiento: \"))\n",
    "dia=int(input(\"Ingrese su día () de nacimiento: \"))\n",
    "\n",
    "anioActual = date.today().year\n",
    "mesActual = date.today().month\n",
    "diaActual = date.today().day\n",
    "\n",
    "edad = anioActual - anio\n",
    "print(edad)\n",
    "\n",
    "if mes> mesActual:\n",
    "    if dia > diaActual:\n",
    "        edad = edad -1\n",
    "        print(\"Tu edad es:\",edad)\n",
    "else:\n",
    "    print(\"Tu edad es:\",edad)"
   ]
  }
 ],
 "metadata": {
  "kernelspec": {
   "display_name": "Python 3 (ipykernel)",
   "language": "python",
   "name": "python3"
  },
  "language_info": {
   "codemirror_mode": {
    "name": "ipython",
    "version": 3
   },
   "file_extension": ".py",
   "mimetype": "text/x-python",
   "name": "python",
   "nbconvert_exporter": "python",
   "pygments_lexer": "ipython3",
   "version": "3.8.16"
  }
 },
 "nbformat": 4,
 "nbformat_minor": 5
}
